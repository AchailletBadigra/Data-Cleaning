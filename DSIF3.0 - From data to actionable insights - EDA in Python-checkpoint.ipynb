{
 "cells": [
  {
   "cell_type": "markdown",
   "id": "629795a6",
   "metadata": {
    "id": "629795a6"
   },
   "source": [
    "# Introduction\n",
    "\n",
    "In this session, we will build on your knowledge from the previous class on data gathering and cleaning. Today, we will dive into exploratory data analysis (EDA) and its importance in the financial sector.\n",
    "We will be using the LendingClub dataset and perform an exploratory data analysis to uncover actionable insights.\n",
    "\n",
    "\n",
    "## Agenda:\n",
    "1. Overview of exploratory data analysis\n",
    "2. Summary statistics - Univariate analysis\n",
    "3. Multivariate analysis\n",
    "4. Enriching your data with feature engineering\n",
    "5. Useful data visualisation techniques\n",
    "6. Data standardisation & Normalisation\n",
    "7. Pandas profiling: a great starting point for EDA\n",
    "8. Assignment #1\n",
    "\n",
    "Demo: Implementation in Python\n",
    "------------------------------\n",
    "\n",
    "\n"
   ]
  },
  {
   "cell_type": "markdown",
   "id": "063935b1",
   "metadata": {
    "id": "063935b1"
   },
   "source": [
    "### Set up"
   ]
  },
  {
   "cell_type": "markdown",
   "id": "335b5fd4",
   "metadata": {
    "id": "335b5fd4"
   },
   "source": [
    "#### User-specified parameters"
   ]
  },
  {
   "cell_type": "code",
   "execution_count": null,
   "id": "9380e912",
   "metadata": {
    "id": "9380e912"
   },
   "outputs": [],
   "source": [
    "python_material_folder_name = \"python-material\""
   ]
  },
  {
   "cell_type": "markdown",
   "id": "dafeecf8",
   "metadata": {
    "id": "dafeecf8"
   },
   "source": [
    "#### Import libraries"
   ]
  },
  {
   "cell_type": "code",
   "execution_count": null,
   "id": "c61f7ad7",
   "metadata": {
    "id": "c61f7ad7"
   },
   "outputs": [],
   "source": [
    "import pandas as pd\n",
    "import numpy as np\n",
    "\n",
    "pd.set_option('display.max_columns', None)\n",
    "pd.set_option('display.max_rows', None)\n",
    "\n",
    "# Check if in Google Colab environment\n",
    "try:\n",
    "    from google.colab import drive\n",
    "    # Mount drive\n",
    "    drive.mount('/content/drive')\n",
    "    # Set up path to Python material parent folder\n",
    "    path_python_material = rf\"drive/MyDrive/{python_material_folder_name}\"\n",
    "        # If unsure, print current directory path by executing the following in a new cell:\n",
    "        # !pwd\n",
    "    IN_COLAB = True\n",
    "except:\n",
    "    IN_COLAB = False\n",
    "    # If working locally on Jupyter Notebook, parent folder is one folder up (assuming you are using the folder structure shared at the beginning of the course)\n",
    "    path_python_material = \"..\""
   ]
  },
  {
   "cell_type": "markdown",
   "id": "03860b6b",
   "metadata": {
    "id": "03860b6b"
   },
   "source": [
    "\n",
    "---\n",
    "\n",
    "1\\. Overview of data exploration\n",
    "----------------------------------------\n",
    "Once you have sourced the relevant data for your project, you need to become familiar with it to:\n",
    "- Gain a better understanding of the data's structure and content.\n",
    "- Discover patterns, trends, and relationships within the data.\n",
    "- Extract actionable insights that can inform business decisions.  \n",
    "\n",
    "In summary, this will help you assess how the data can be used to achieve your business objective.\n",
    "\n",
    "---\n",
    "\n",
    "2\\. Summary statistics - Univariate analysis\n",
    "----------------------------------------\n",
    "\n",
    "Univariate analysis involves examining a single variable. Common techniques include calculating central tendency measures like mean, median, and mode.\n",
    "\n",
    "- **Mean**: The average value\n",
    "- **Median**: The middle value\n",
    "- **Mode**: The most frequent value\n",
    "- **Standard Deviation**: Measures the spread of the data\n",
    "- **Percentiles**: Indicate the relative standing of a value in the dataset\n",
    "\n",
    "### Why are they useful?\n",
    "Summary statistics provide a quick overview of the data, allowing us to grasp the general trends and identify any anomalies or outliers.\n",
    "\n",
    "### <span style=\"color:BLUE\"> **>>> QUESTION:** </span>    \n",
    "> *Where have we already encountered descriptive statistics and can you remember how to print some of them out for a pandas dataframe?*\n",
    "\n"
   ]
  },
  {
   "cell_type": "markdown",
   "id": "cdc8fa63",
   "metadata": {
    "id": "cdc8fa63"
   },
   "source": [
    "### Data import"
   ]
  },
  {
   "cell_type": "code",
   "execution_count": null,
   "id": "aa7d82ee",
   "metadata": {
    "id": "aa7d82ee",
    "outputId": "3b8614d3-e483-4978-8de6-0061b2cc95d9",
    "scrolled": true
   },
   "outputs": [],
   "source": [
    "# Read data that was exported from previous session\n",
    "df = pd.read_csv(f\"{path_python_material}/data/2-intermediate/df_out_dsif2.csv\").sample(100)\n",
    "\n",
    "df.head()"
   ]
  },
  {
   "cell_type": "markdown",
   "id": "3ea81dc0",
   "metadata": {
    "id": "3ea81dc0"
   },
   "source": [
    "### Summary Statistics"
   ]
  },
  {
   "cell_type": "code",
   "execution_count": null,
   "id": "d29bd92b",
   "metadata": {
    "id": "d29bd92b",
    "outputId": "ce896cce-10f4-4d1f-c001-bac8bf0e0c33"
   },
   "outputs": [],
   "source": [
    "from scipy.stats import skew\n",
    "\n",
    "# Calculating Summary Statistics\n",
    "mean_loan = df['loan_amnt'].mean()\n",
    "median_loan = df['loan_amnt'].median()\n",
    "mode_loan = df['loan_amnt'].mode()[0]\n",
    "std_loan = df['loan_amnt'].std()\n",
    "percentiles_loan = df['loan_amnt'].quantile([0.25, 0.5, 0.75])\n",
    "skewness_value = skew(df['loan_amnt'])\n",
    "\n",
    "print(f\"Mean Loan Amount: {mean_loan}\")\n",
    "print(f\"Median Loan Amount: {median_loan}\")\n",
    "print(f\"Mode Loan Amount: {mode_loan}\")\n",
    "print(f\"Standard Deviation of Loan Amount: {std_loan}\")\n",
    "print(f\"Loan Amount Percentiles: \\n{percentiles_loan}\")\n",
    "print(\"Skewness:\", skewness_value)"
   ]
  },
  {
   "cell_type": "markdown",
   "id": "811fed41",
   "metadata": {
    "id": "811fed41"
   },
   "source": [
    "### <span style=\"color:BLUE\"> **>>> EXERCISE:**</span>\n",
    "> Create a function that takes as input a dataframe and a column name, and oututs the summary statistics as per the output created in the cell above (mean, median, mode, std deviation and 25th, 50th and 75th percentiles, skewness value.  \n",
    "\n",
    "> Additionally, based on skewness value print the following:  \n",
    "'Skewness = 0: Data is perfectly symmetric.'  \n",
    "'Skewness > 0: Positive skew (right skew).'  \n",
    "'Skewness < 0: Negative skew (left skew).'  \n",
    "\n",
    "> Test the function on `loan_amnt` column first, then on `int_rate` column. What happens when you run it on `int_rate`, can you think of a way around it?   \n",
    "\n",
    "\n"
   ]
  },
  {
   "cell_type": "code",
   "execution_count": null,
   "id": "8b242fca",
   "metadata": {
    "id": "8b242fca",
    "outputId": "93ebd319-0d48-4897-a152-e145e7ffb4cb"
   },
   "outputs": [],
   "source": [
    "# Step 1 - Create the function\n",
    "def summary_statistics(df:pd.DataFrame, col_name:str):\n",
    "    \"\"\"\n",
    "    Takes as input a dataframe and a column name, and oututs the following summary statistics: mean, median, mode, std deviation and 25th, 50th and 75th percentiles, skewness value and assessment.\n",
    "    \"\"\"\n",
    "    # Calculating Summary Statistics\n",
    "    mean_loan = df[col_name].mean()\n",
    "    median_loan = df[col_name].median()\n",
    "    mode_loan = df[col_name].mode()[0]\n",
    "    std_loan = df[col_name].std()\n",
    "    percentiles_loan = df[col_name].quantile([0.25, 0.5, 0.75])\n",
    "    skewness_value = skew(df[col_name])\n",
    "    \n",
    "    print(f\"Mean Loan Amount: {mean_loan}\")\n",
    "    print(f\"Median Loan Amount: {median_loan}\")\n",
    "    print(f\"Mode Loan Amount: {mode_loan}\")\n",
    "    print(f\"Standard Deviation of Loan Amount: {std_loan}\")\n",
    "    print(f\"Loan Amount Percentiles: \\n{percentiles_loan}\")\n",
    "    print(\"Skewness:\", skewness_value)\n",
    "    \n",
    "    # Interpret the skewness\n",
    "    if skewness_value == 0:\n",
    "        print(\"Skewness = 0: Data is perfectly symmetric.\")\n",
    "    elif skewness_value > 0:\n",
    "        print(\"Skewness > 0: Positive skew (right skew).\")\n",
    "    else:\n",
    "        print(\"Skewness < 0: Negative skew (left skew).\")\n"
   ]
  },
  {
   "cell_type": "code",
   "execution_count": null,
   "id": "7d178aa6",
   "metadata": {},
   "outputs": [],
   "source": [
    "summary_statistics(df, \"loan_amnt\")"
   ]
  },
  {
   "cell_type": "code",
   "execution_count": null,
   "id": "cf608f29",
   "metadata": {},
   "outputs": [],
   "source": [
    "df.head()[\"int_rate\"]"
   ]
  },
  {
   "cell_type": "code",
   "execution_count": null,
   "id": "a114c5fc",
   "metadata": {},
   "outputs": [],
   "source": [
    "df.dtypes\n",
    "\n",
    "\n",
    "df['int_rate_clean'] = df['int_rate'].str.rstrip('%').astype('float')\n",
    "df['int_rate_clean'].head(2)"
   ]
  },
  {
   "cell_type": "code",
   "execution_count": null,
   "id": "4cef0f03",
   "metadata": {},
   "outputs": [],
   "source": [
    "summary_statistics(df, \"int_rate_clean\")"
   ]
  },
  {
   "cell_type": "markdown",
   "id": "83ea1293",
   "metadata": {
    "id": "83ea1293"
   },
   "source": [
    "Hint: to improve format and limit number of decimal characters, try adopting the following syntax instead:\n",
    "`mean_loan = (\"%.2f\" % df[col_name].mean())`"
   ]
  },
  {
   "cell_type": "markdown",
   "id": "9ac3eea3",
   "metadata": {
    "id": "9ac3eea3"
   },
   "source": [
    "3\\. Multivariate Analysis\n",
    "----------------------------------------\n",
    "\n",
    "Multivariate analysis involves examining relationships between two or more variables. This can help identify correlations and interactions within the data.\n",
    "\n",
    "### Correlation\n",
    "Correlation is a way to measure how strongly two things are related to each other. It's like asking: \"When one thing changes, does the other thing change too? And if it does, how much?\"\n",
    "\n",
    "**Note**: correlation tells us about the strength and direction of a relationship between two variables (X and Y), but it doesn't give us the exact amount by which Y changes when X changes."
   ]
  },
  {
   "cell_type": "code",
   "execution_count": null,
   "id": "1266d253",
   "metadata": {
    "id": "1266d253",
    "outputId": "bc88e29c-ea67-4e5a-8e82-e4ff8feca78f"
   },
   "outputs": [],
   "source": [
    "# Correlation between Loan Amount and Interest Rate\n",
    "correlation = df['loan_amnt'].corr(df['int_rate_clean'])\n",
    "print(f\"Correlation between Loan Amount and Interest Rate: {correlation}\")\n"
   ]
  },
  {
   "cell_type": "markdown",
   "id": "b2c0ddc5",
   "metadata": {
    "id": "b2c0ddc5"
   },
   "source": [
    "### <span style=\"color:BLUE\"> **>>> EXERCISE:**  </span>\n",
    "> Find the correlation between `loan_amnt` and a new column called `term_numeric` which is a numeric equivalent of the `term` column.    \n"
   ]
  },
  {
   "cell_type": "code",
   "execution_count": null,
   "id": "d1bb1609",
   "metadata": {
    "id": "d1bb1609"
   },
   "outputs": [],
   "source": [
    "df['term_numeric'] = df['term'].str.strip(\" months\").astype('int') # YOUR CODE HERE\n",
    "correlation_term = df['loan_amnt'].corr(df['term_numeric'])\n",
    "\n",
    "print(f\"Correlation between Loan Amount and Loan Term: {correlation_term}\")\n"
   ]
  },
  {
   "cell_type": "code",
   "execution_count": null,
   "id": "90e95e5c",
   "metadata": {},
   "outputs": [],
   "source": [
    "df['term'].head()"
   ]
  },
  {
   "cell_type": "markdown",
   "id": "8b882280",
   "metadata": {},
   "source": [
    "### <span style=\"color:BLUE\"> **>>> DISCUSSION:**  </span>\n",
    "> What can we conclude?\n"
   ]
  },
  {
   "cell_type": "markdown",
   "id": "9346e4ab",
   "metadata": {
    "id": "9346e4ab"
   },
   "source": [
    "4\\. Enriching your data with feature engineering\n",
    "-----------------------\n",
    "\n",
    "### What is Feature Engineering?\n",
    "\n",
    "Feature engineering is the process of using domain knowledge to create new features or modify existing ones to improve the performance of machine learning models.\n",
    "\n",
    "### Why is it important?\n",
    "\n",
    "Feature engineering can significantly enhance the predictive power of models by incorporating additional information or transforming existing data into more useful formats.\n",
    "\n",
    "### Techniques\n",
    "\n",
    "-   **Creating New Features**: e.g., debt-to-income ratio\n",
    "-   **Transforming Existing Features**: e.g., log transformation\n",
    "-   **Feature encoding**: e.g.: dummy encoding, label encoding"
   ]
  },
  {
   "cell_type": "code",
   "execution_count": null,
   "id": "4637637e",
   "metadata": {
    "id": "4637637e",
    "outputId": "18ae7a4c-d8ff-4dcd-eebc-908800936229"
   },
   "outputs": [],
   "source": [
    "print(*df.columns, sep=(\"\\n\"))"
   ]
  },
  {
   "cell_type": "markdown",
   "id": "d299b4cf",
   "metadata": {
    "id": "d299b4cf"
   },
   "source": [
    "## Creating new features"
   ]
  },
  {
   "cell_type": "code",
   "execution_count": null,
   "id": "5f20195c",
   "metadata": {
    "id": "5f20195c",
    "outputId": "d8b10b2a-b469-416c-9403-558f87045ff1"
   },
   "outputs": [],
   "source": [
    "# Creating a new feature: debt-to-income ratio\n",
    "df['debt_to_income'] = df['loan_amnt'] / df['annual_inc']\n",
    "df[['id','loan_amnt', 'annual_inc', 'debt_to_income']].head(5)\n"
   ]
  },
  {
   "cell_type": "markdown",
   "id": "3a8c8e0c",
   "metadata": {
    "id": "3a8c8e0c"
   },
   "source": [
    "### <span style=\"color:BLUE\"> **>>> EXERCISE:**  </span>\n",
    "> Let's create a new feature called `interest_per_loan_amnt`, which calculates the total interest paid throughout the course of the term based on interest rate, loan amount and term information.   \n"
   ]
  },
  {
   "cell_type": "code",
   "execution_count": null,
   "id": "6f773d47",
   "metadata": {
    "id": "6f773d47"
   },
   "outputs": [],
   "source": [
    "df['interest_per_loan_amnt'] = df['loan_amnt'] * (df['int_rate_clean']/100)*  (df['term_numeric']/12) # YOUR CODE HERE\n",
    "\n",
    "# Printing out results\n",
    "df[['id','loan_amnt', 'int_rate_clean', 'term_numeric', 'interest_per_loan_amnt']].head()"
   ]
  },
  {
   "cell_type": "markdown",
   "id": "97af0dff",
   "metadata": {
    "id": "97af0dff"
   },
   "source": [
    "## Transforming Existing Features\n",
    "### Example: Log transformation\n",
    "Log transformation is a technique used to handle skewed data. It involves applying the natural logarithm (or another logarithm) to the data to reduce skewness and stabilize variance.\n",
    "\n",
    "**Why is this important?**\n",
    "Skewed data can distort statistical analyses and machine learning models, leading to poor predictions. Log transformation can help normalize the data, making it more suitable for analysis.\n",
    "Many financial variables, such as income or loan amounts, can have long-tailed distributions. By applying log transformations, we ensure that these features are better suited for linear models and improve the model’s performance."
   ]
  },
  {
   "cell_type": "code",
   "execution_count": null,
   "id": "caf8b169",
   "metadata": {
    "id": "caf8b169",
    "outputId": "151ad967-8fe6-4399-8b7e-4694d7142ba8"
   },
   "outputs": [],
   "source": [
    "import matplotlib.pyplot as plt\n",
    "\n",
    "# Log transformation\n",
    "df['loan_amnt_log'] = np.log(df['loan_amnt'] + 1) # Adding +1 to avoid log(0)\n",
    "\n",
    "# Plotting original and log-transformed data\n",
    "plt.figure(figsize=(12, 6))\n",
    "plt.subplot(1, 2, 1)\n",
    "plt.hist(df['loan_amnt'], bins=10, color='blue', edgecolor='black')\n",
    "plt.title('Original data')\n",
    "\n",
    "plt.subplot(1, 2, 2)\n",
    "plt.hist(df['loan_amnt_log'], bins=10, color='green', edgecolor='black')\n",
    "plt.title('Log-transformed data')\n",
    "\n",
    "plt.show()\n",
    "\n",
    "print(f\"Skewness before log transform: {skew(df['loan_amnt'])}\")\n",
    "print(f\"Skewness after log transform: {skew(df['loan_amnt_log'])}\")"
   ]
  },
  {
   "cell_type": "markdown",
   "id": "c502cc6f",
   "metadata": {
    "id": "c502cc6f"
   },
   "source": [
    "## Feature encoding\n",
    "**Categorical feature encoding** is a crucial step in preparing categorical data for use in machine learning models. Categorical data includes variables that represent discrete categories or groups, such as \"loan grade,\" \"employment status,\" or \"credit rating.\" Unlike numerical data, these categories do not have an inherent order or scale that algorithms can directly interpret. Therefore, we need to convert these categories into a numerical format that can be utilized by machine learning models.\n",
    "\n",
    "### Dummy Encoding (One-Hot Encoding)\n",
    "\n",
    "**Dummy Encoding** (or One-Hot Encoding) converts each category of a categorical variable into a new binary column (0 or 1). Each column represents a category, with a value of `1` indicating the presence of that category in the observation, and `0` otherwise.\n",
    "\n",
    "**Why is this important?**\n",
    "Machine learning algorithms generally require numerical input. Without converting categorical data into numerical form, algorithms wouldn't be able to process the data, leading to errors.\n",
    "\n",
    "By using dummy encoding, you preserve the distinct nature of each category without implying any order or rank between them. This is especially important for models like linear regression, where numerical values can suggest a relationship or order that does not actually exist."
   ]
  },
  {
   "cell_type": "code",
   "execution_count": null,
   "id": "ec957838",
   "metadata": {},
   "outputs": [],
   "source": [
    "df['grade'].value_counts()"
   ]
  },
  {
   "cell_type": "code",
   "execution_count": null,
   "id": "7118387f",
   "metadata": {
    "id": "7118387f",
    "outputId": "12a4f625-0f57-47e4-ea47-44da19bdf450"
   },
   "outputs": [],
   "source": [
    "# One-hot encoding\n",
    "df_dummies = pd.get_dummies(df['grade'], prefix='grade', drop_first= True)\n",
    "df_dummies.head()"
   ]
  },
  {
   "cell_type": "markdown",
   "id": "89f0949c",
   "metadata": {
    "id": "89f0949c"
   },
   "source": [
    "### Label Encoding\n",
    "Label Encoding assigns a unique integer to each category in the categorical variable. For example, a \"loan grade\" of 'A' might be encoded as `0`, 'B' as `1`, and so on.\n",
    "\n",
    "**Why is this important?**: Label encoding is useful when the categorical variable is ordinal (i.e., there is a meaningful order or ranking to the categories). However, for non-ordinal data, it might imply an order that does not exist, potentially misleading the model.\n",
    "This method is simple and works well when you need to convert a categorical variable with many levels into a numerical format quickly. However, be careful not to unintentionally introduce ordinal relationships when none exist."
   ]
  },
  {
   "cell_type": "code",
   "execution_count": null,
   "id": "08b9dea5",
   "metadata": {
    "id": "08b9dea5",
    "outputId": "0a01b8e7-dfbc-4636-a5c8-d2373a421d8a"
   },
   "outputs": [],
   "source": [
    "from sklearn.preprocessing import LabelEncoder\n",
    "\n",
    "# Label encoding\n",
    "le = LabelEncoder()\n",
    "df['grade_encoded'] = le.fit_transform(df['grade'])\n",
    "df[['grade', 'grade_encoded']].head()"
   ]
  },
  {
   "cell_type": "markdown",
   "id": "f95bb8e1",
   "metadata": {
    "id": "f95bb8e1"
   },
   "source": [
    "5\\. Useful data visualisation techniques\n",
    "----------------------\n",
    "### Why is Visualization Important?\n",
    "\n",
    "Visualization helps in understanding data patterns and communicating findings effectively. Common visualization techniques include:\n",
    "\n",
    "-   **Histograms**: To visualize distributions\n",
    "-   **Box Plots**: To identify outliers\n",
    "-   **Bar Plots**: To compare categories\n",
    "-   **Pair Plots**: To explore relationships between pairs of variables\n",
    "-   **Heatmaps**: To visualize correlations\n",
    "-   **Violin Plots**: To combine density and summary statistics\n",
    "\n",
    "Check out the [seaborn cheat sheet](https://www.datacamp.com/cheat-sheet/python-seaborn-cheat-sheet) for more info."
   ]
  },
  {
   "cell_type": "code",
   "execution_count": null,
   "id": "d554a314",
   "metadata": {
    "id": "d554a314",
    "outputId": "b08492d3-4b8d-4641-e45b-ce27d57097c8"
   },
   "outputs": [],
   "source": [
    "import matplotlib.pyplot as plt\n",
    "import seaborn as sns\n",
    "\n",
    "# Histogram of Loan Amount\n",
    "plt.figure(figsize=(8, 6))\n",
    "sns.histplot(df['loan_amnt'], kde=True, bins = 4)\n",
    "plt.title('Distribution of Loan Amount')\n",
    "plt.show()\n",
    "\n"
   ]
  },
  {
   "cell_type": "code",
   "execution_count": null,
   "id": "3b892a48",
   "metadata": {
    "id": "3b892a48",
    "outputId": "eb50f75b-1854-46cc-9c0a-b07c654b82c3"
   },
   "outputs": [],
   "source": [
    "# Box Plot of Interest Rate\n",
    "plt.figure(figsize=(8, 6))\n",
    "sns.boxplot(y=df['int_rate_clean'])\n",
    "plt.title('Box Plot of Interest Rate',)\n",
    "plt.show()\n"
   ]
  },
  {
   "cell_type": "code",
   "execution_count": null,
   "id": "df13d033",
   "metadata": {
    "id": "df13d033",
    "outputId": "a5c8d857-f556-444a-9b01-bc367ddad43f"
   },
   "outputs": [],
   "source": [
    "# Select numeric columns only\n",
    "df_numeric = df.select_dtypes(exclude=\"object\")\n",
    "\n",
    "# Heatmap of Correlations\n",
    "plt.figure(figsize=(8, 6))\n",
    "sns.heatmap(df_numeric.corr(), annot=True, cmap='coolwarm', center=0)\n",
    "plt.title('Correlation Heatmap')\n",
    "plt.show()"
   ]
  },
  {
   "cell_type": "markdown",
   "id": "bbfafc73",
   "metadata": {
    "id": "bbfafc73"
   },
   "source": [
    "Hard to read? Absolutely, this is because too many columns are selected. Let's try on a subset of columns:"
   ]
  },
  {
   "cell_type": "code",
   "execution_count": null,
   "id": "774b63ab",
   "metadata": {
    "id": "774b63ab",
    "outputId": "7d340fa4-13be-4f54-98ed-f2fcd6df7ee2"
   },
   "outputs": [],
   "source": [
    "plt.figure(figsize=(8, 6))\n",
    "sns.heatmap(df_numeric \\\n",
    "            .drop(columns=df_numeric.columns[10:]) \\\n",
    "            .corr(), annot=True, cmap='coolwarm', center=0)\n",
    "plt.title('Correlation Heatmap')\n",
    "plt.show()"
   ]
  },
  {
   "cell_type": "code",
   "execution_count": null,
   "id": "1df1f3d9",
   "metadata": {},
   "outputs": [],
   "source": [
    "df_numeric.corr().head(2)"
   ]
  },
  {
   "cell_type": "code",
   "execution_count": null,
   "id": "4b7932cd",
   "metadata": {},
   "outputs": [],
   "source": [
    "# How to use or interpret? \n",
    "\n",
    "df_to_iterate = df_numeric.corr()\n",
    "    \n",
    "# Iterate through each numeric column in the dataframe\n",
    "for column in df_to_iterate.columns:\n",
    "    # Sort the values in descending order and take the top 3\n",
    "    top_3_values = df_to_iterate[column].nlargest(3)\n",
    "    print(f\"Top 3 values for column '{column}':\\n{top_3_values}\\n\")"
   ]
  },
  {
   "cell_type": "markdown",
   "id": "5f049f4a",
   "metadata": {
    "id": "5f049f4a"
   },
   "source": [
    "Key highlights:\n",
    "- High correlation (red) is expected across the diagonal (unsurprisingly, features are correlated to themselves..)\n",
    "- It is important to review features that are correlated and ask ourselves 2 key questions:  \n",
    "    > a) Do we understand why they are, in other words is it expected?  \n",
    "    > b) Do we think a feature may carry additional information to the features it shows high correlation with? If so, it may be worth retaining for modelling purposes, *however* we want to minimise the risk of multicollinearity, which poses a problem for some types of models.  \n",
    "\n",
    "We will be talking about this in our modelling classes, so don't worry too much about it for now."
   ]
  },
  {
   "cell_type": "markdown",
   "id": "cb029dc5",
   "metadata": {
    "id": "cb029dc5"
   },
   "source": [
    "### <span style=\"color:BLUE\"> **>>>EXERCISE:**  </span>\n",
    "Looks like there may be some correlation between income and loan amount (expectedly, as higher income individuals are able to afford higher loan amounts).\n",
    "    \n",
    "Search the documentation of [seaborn](seaborn.com) and create a pair plot between those 2 features     \n"
   ]
  },
  {
   "cell_type": "code",
   "execution_count": null,
   "id": "8d3b9d76",
   "metadata": {
    "id": "8d3b9d76",
    "scrolled": true
   },
   "outputs": [],
   "source": [
    "# YOUR CODE HERE\n",
    "# Pair plot\n",
    "list_to_plot = [\"loan_amnt\", \"annual_inc\"]\n",
    "sns.pairplot(df[list_to_plot])"
   ]
  },
  {
   "cell_type": "markdown",
   "id": "a51206c8",
   "metadata": {
    "id": "a51206c8"
   },
   "source": [
    "6\\. Data standardisation & Normalisation\n",
    "----------------------------------------\n"
   ]
  },
  {
   "cell_type": "markdown",
   "id": "24f0b7e6",
   "metadata": {
    "id": "24f0b7e6"
   },
   "source": [
    "### Data standardization\n",
    "Standardization involves transforming data so that it has a mean of zero and a standard deviation of one. This is particularly important for algorithms that assume data is normally distributed and those that are sensitive to the scale of data, such as:  \n",
    "1\\. **Gradient descent-based Algorithms:** Algorithms like linear regression, logistic regression, and neural networks.  \n",
    "2\\. **Distance-based Algorithms:** Algorithms such as K-nearest neighbors (KNN) and K-means clustering, which rely on distance metrics.\n",
    "\n",
    "### Data normalization\n",
    "Normalization scales data to a range of [0, 1] or [-1, 1]. It's crucial for:  \n",
    "1\\. **Ensuring Uniform Contribution:** Each feature contributes equally to the model.  \n",
    "2\\. **Neural Networks:** Where the range of input data can significantly impact the training process.  \n",
    "\n",
    "Standardization is generally preferred when working with algorithms that assume normally distributed data or when features have different units and you need them to have zero mean and unit variance.  \n",
    "Normalization is typically used when you need to scale features to a fixed range or when working with algorithms sensitive to the magnitude of input data.  \n",
    "\n",
    "Let's take a look at the distribution of two numerical features: `loan_amnt` (loan amount) and `annual_inc` (annual income).\n"
   ]
  },
  {
   "cell_type": "code",
   "execution_count": null,
   "id": "35880230",
   "metadata": {
    "id": "35880230",
    "outputId": "cd28464f-0eb5-4d2b-e4c3-1cdb65c8c044"
   },
   "outputs": [],
   "source": [
    "from sklearn.preprocessing import StandardScaler\n",
    "\n",
    "# Standardizing the data\n",
    "scaler = StandardScaler()\n",
    "\n",
    "df[['loan_amnt_std', 'annual_inc_std']] = scaler.fit_transform(df[['loan_amnt', 'annual_inc']])\n",
    "\n",
    "# Plotting the distributions before standardization\n",
    "plt.figure(figsize=(14, 6))\n",
    "plt.subplot(1, 2, 1)\n",
    "sns.histplot(df['loan_amnt'], bins=30, kde=True)\n",
    "plt.title('Loan Amount Distribution (Before Standardization)')\n",
    "plt.subplot(1, 2, 2)\n",
    "sns.histplot(df['annual_inc'], bins=30, kde=True)\n",
    "plt.title('Annual Income Distribution (Before Standardization)')\n",
    "plt.tight_layout()\n",
    "plt.show()\n",
    "\n",
    "\n",
    "# Plotting the distributions after standardization\n",
    "plt.figure(figsize=(14, 6))\n",
    "plt.subplot(1, 2, 1)\n",
    "sns.histplot(df['loan_amnt_std'], bins=30, kde=True)\n",
    "plt.title('Loan Amount Distribution (After Standardization)')\n",
    "plt.subplot(1, 2, 2)\n",
    "sns.histplot(df['annual_inc_std'], bins=30, kde=True)\n",
    "plt.title('Annual Income Distribution (After Standardization)')\n",
    "plt.tight_layout()\n",
    "plt.show()\n"
   ]
  },
  {
   "cell_type": "code",
   "execution_count": null,
   "id": "6363f487",
   "metadata": {
    "id": "6363f487",
    "outputId": "254002d6-a7b1-4f52-9a05-b6e91d136140"
   },
   "outputs": [],
   "source": [
    "from sklearn.preprocessing import MinMaxScaler\n",
    "\n",
    "# Normalizing the data\n",
    "scaler = MinMaxScaler()\n",
    "\n",
    "df[['loan_amnt_norm', 'annual_inc_norm']] = scaler.fit_transform(df[['loan_amnt', 'annual_inc']])\n",
    "\n",
    "# Plotting the distributions after normalization\n",
    "plt.figure(figsize=(14, 6))\n",
    "plt.subplot(1, 2, 1)\n",
    "sns.histplot(df['loan_amnt_norm'], bins=30, kde=True)\n",
    "plt.title('Loan Amount Distribution (After Normalization)')\n",
    "plt.subplot(1, 2, 2)\n",
    "sns.histplot(df['annual_inc_norm'], bins=30, kde=True)\n",
    "plt.title('Annual Income Distribution (After Normalization)')\n",
    "plt.tight_layout()\n",
    "plt.show()"
   ]
  },
  {
   "cell_type": "markdown",
   "id": "7ed2e5fe",
   "metadata": {
    "id": "7ed2e5fe"
   },
   "source": [
    "### Use Cases in Lending\n",
    "\n",
    "#### Credit Risk Analysis\n",
    "Standardization and normalization can help improve the accuracy of credit risk models by ensuring that numerical features are on a similar scale, preventing any single feature from disproportionately influencing the model.\n",
    "\n",
    "#### Fraud Detection\n",
    "Standardizing and normalizing transaction amounts can help identify anomalies or unusual patterns that may indicate fraudulent activities.\n"
   ]
  },
  {
   "cell_type": "markdown",
   "id": "93464cf5",
   "metadata": {},
   "source": [
    "7\\. Pandas profiling: a great starting point for EDA\n",
    "-------------\n"
   ]
  },
  {
   "cell_type": "code",
   "execution_count": null,
   "id": "0f7506e4",
   "metadata": {},
   "outputs": [],
   "source": [
    "df.head()"
   ]
  },
  {
   "cell_type": "code",
   "execution_count": null,
   "id": "68601460",
   "metadata": {},
   "outputs": [],
   "source": [
    "# Sampling data for ease of processing (note: make sure the sample size is large enough to extrapolate from)\n",
    "features = ['term', 'fico_range_high', 'fico_range_low', 'annual_inc', 'dti']\n",
    "df_sampled = df[features].sample(100)\n"
   ]
  },
  {
   "cell_type": "code",
   "execution_count": null,
   "id": "e23e8862",
   "metadata": {},
   "outputs": [],
   "source": [
    "from ydata_profiling import ProfileReport\n",
    "report = ProfileReport(df_sampled, title= \"Report\")\n",
    "report # Will take a few minutes to process\n",
    "\n",
    "# report.to_file('../reports/dsif3-data-profiling.html') # To save as html"
   ]
  },
  {
   "cell_type": "markdown",
   "id": "22a1dbf5",
   "metadata": {
    "id": "22a1dbf5"
   },
   "source": [
    "## Data export\n",
    "Before moving to the last section on time series, let's export our data to the \"intermediate\" data folder."
   ]
  },
  {
   "cell_type": "code",
   "execution_count": null,
   "id": "43598276",
   "metadata": {
    "id": "43598276"
   },
   "outputs": [],
   "source": [
    "df.to_csv(f\"{path_python_material}/data/2-intermediate/df_out_dsif3.csv\"\n",
    "                        , index = False)"
   ]
  },
  {
   "cell_type": "markdown",
   "id": "f19d0b02",
   "metadata": {
    "id": "f19d0b02"
   },
   "source": [
    "8\\. Assignment #1\n",
    "-------------\n",
    "\n",
    "Take your data cleaning and exploratory data analysis further and uncover **at least 2 additional actionable insights** as an outcome of EDA.\n",
    "Tips:\n",
    "- Feel free to drop or generate additional features in doing so.\n",
    "- How can the business leverage the insights uncovered and how can the impact of your insight be measured?\n",
    "\n",
    "**Submission:** Submit your notebook with the EDA and insights documented.\n",
    "\n",
    "**Evaluation Criteria:**\n",
    "\n",
    "-   Depth of analysis and insights derived.\n",
    "-   Relevance and feasibility of the actionable insights.\n",
    "-   Clarity and thoroughness of code and explanations.\n",
    "\n",
    "Tips: don't be afraid to be creative, and go past what was covered in this session (e.g. additional plot types etc.)\n",
    "\n",
    "Happy exploring!"
   ]
  },
  {
   "cell_type": "code",
   "execution_count": null,
   "id": "85131319",
   "metadata": {
    "id": "85131319"
   },
   "outputs": [],
   "source": [
    "#### Example structure ####\n",
    "\n",
    "# 1. Load data \n",
    "#    > recommended to use output from above class\n",
    "\n",
    "# 2. Data cleaning\n",
    "\n",
    "# 3. Summary statistics\n",
    "\n",
    "# 4. Feature engineering\n",
    "\n",
    "# 5. Visualization \n",
    "#    > check out seaborn documentation at link above\n",
    "\n",
    "# 6. Insights and conclusions\n",
    "#    > what actions is your insight driving \n",
    "#    (could be data cleaning action, or a question/hypothesis for the business to test, etc.)"
   ]
  },
  {
   "cell_type": "markdown",
   "id": "c722064b",
   "metadata": {
    "id": "c722064b"
   },
   "source": [
    "# End of session"
   ]
  },
  {
   "cell_type": "code",
   "execution_count": null,
   "id": "a06b6644",
   "metadata": {
    "id": "a06b6644",
    "outputId": "ce5440c5-9462-474c-a4e1-4c71bcae2e81"
   },
   "outputs": [],
   "source": [
    "from IPython.display import Image\n",
    "Image(filename='../images/the-end.jpg', width=500,)\n"
   ]
  },
  {
   "cell_type": "code",
   "execution_count": null,
   "id": "47f2cdc2",
   "metadata": {
    "id": "47f2cdc2"
   },
   "outputs": [],
   "source": [
    "import openai"
   ]
  },
  {
   "cell_type": "code",
   "execution_count": 25,
   "id": "436fc7cd-fb55-439a-95dc-97a3a13e6fcf",
   "metadata": {},
   "outputs": [],
   "source": [
    "####ASSIGNMENT STRUCTURE FOLLOWED######\n",
    "# Final Assignment Structure:\n",
    "# 1. Load Data\n",
    "# I loaded the dataset into a Pandas DataFrame and explored its structure, finding a mix of numerical, categorical, and text data.\n",
    "\n",
    "# 2. Data Cleaning\n",
    "# I cleaned the data by:\n",
    "\n",
    "# Removing duplicate entries.\n",
    "# Dropping columns with more than 50% missing data.\n",
    "# Converting the int_rate column from a string with percentages to a numerical format.\n",
    "# This step reduced the dataset from 149 columns to 112 columns, making it more manageable while retaining essential information.\n",
    "\n",
    "# 3. Summary Statistics\n",
    "# I computed summary statistics for both numerical and categorical columns:\n",
    "\n",
    "# Numerical Features: Key statistics like mean, median, and distribution helped us understand the spread of the data, identify potential outliers, and check for skewness in features like loan_amnt and int_rate.\n",
    "# Categorical Features: Features like term, grade, and emp_title provided insights into the distribution of categories. For instance, Grade B loans and \"36 months\" term were the most common.\n",
    "# 4. Feature Engineering\n",
    "# To enhance our analysis, I generated the following new features:\n",
    "\n",
    "# Loan-to-Income Ratio: This feature helped assess the affordability of a loan relative to the borrower's income.\n",
    "# Interest Rate Bins: By categorising interest rates into bins (e.g., \"Low\", \"Medium\", \"High\"), I made it easier to compare different loans based on interest rates.\n",
    "# Debt-to-Income Ratio: This feature provided a clearer picture of borrowers' financial health.\n",
    "# These features will improve the interpretability of the analysis and offer deeper insights.\n",
    "\n",
    "# 5. Visualisations\n",
    "# Visualisation was key to uncovering patterns in the data. I focused on three main plots:\n",
    "\n",
    "# Correlation Heatmap: This visualised relationships between numerical features, allowing us to identify strong correlations, such as between loan amounts and funded amounts.\n",
    "# Distribution of Interest Rate Bins: This plot revealed how loans are distributed across different interest rate categories, with a noticeable concentration in the \"High\" and \"Very High\" interest rate bins.\n",
    "# Scatter Plot (Loan Amount vs Loan-to-Income Ratio): This highlighted how loan amounts are related to loan-to-income ratios. Higher loan-to-income ratios could indicate higher risk for certain borrowers.\n"
   ]
  },
  {
   "cell_type": "code",
   "execution_count": 9,
   "id": "a9b69621-a2cb-499e-9430-0b31dbdf9f60",
   "metadata": {},
   "outputs": [
    {
     "name": "stdout",
     "output_type": "stream",
     "text": [
      "<class 'pandas.core.frame.DataFrame'>\n",
      "RangeIndex: 100000 entries, 0 to 99999\n",
      "Columns: 149 entries, id to Category\n",
      "dtypes: float64(108), int64(2), object(39)\n",
      "memory usage: 113.7+ MB\n"
     ]
    },
    {
     "data": {
      "text/plain": [
       "(None,\n",
       "           id  loan_amnt  funded_amnt  funded_amnt_inv        term int_rate  \\\n",
       " 0  167338079     4000.0       4000.0           4000.0   36 months   13.08%   \n",
       " 1   71016917    24000.0      24000.0          24000.0   60 months    9.16%   \n",
       " 2   39589826     5000.0       5000.0           5000.0   36 months   10.49%   \n",
       " 3  134798709    24000.0      24000.0          24000.0   60 months   11.05%   \n",
       " 4  127097355    14000.0      14000.0          14000.0   60 months   13.59%   \n",
       " \n",
       "    installment grade sub_grade       emp_title  ...  \\\n",
       " 0       134.93     B        B5         cashier  ...   \n",
       " 1       500.07     B        B2             ABM  ...   \n",
       " 2       162.49     B        B3          driver  ...   \n",
       " 3       522.42     B        B4             NaN  ...   \n",
       " 4       322.79     C        C2  Shipping Clerk  ...   \n",
       " \n",
       "   hardship_last_payment_amount debt_settlement_flag  hardship_status_filled  \\\n",
       " 0                          NaN                    N             NO_HARDSHIP   \n",
       " 1                          NaN                    N             NO_HARDSHIP   \n",
       " 2                          NaN                    N             NO_HARDSHIP   \n",
       " 3                          NaN                    N             NO_HARDSHIP   \n",
       " 4                          NaN                    N             NO_HARDSHIP   \n",
       " \n",
       "   last_pymnt_amnt_log last_pymnt_amnt_capped loan_id_extracted  \\\n",
       " 0            4.912140                 134.93         167338079   \n",
       " 1            6.216746                 500.07          71016917   \n",
       " 2            5.096385                 162.43          39589826   \n",
       " 3            6.260384                 522.42         134798709   \n",
       " 4            9.317383               11128.82         127097355   \n",
       " \n",
       "   emp_title_clean emp_title_manager Job Title Category  \n",
       " 0         cashier             False       NaN      NaN  \n",
       " 1             abm             False       NaN      NaN  \n",
       " 2          driver             False       NaN      NaN  \n",
       " 3             NaN               NaN       NaN      NaN  \n",
       " 4  shipping clerk             False       NaN      NaN  \n",
       " \n",
       " [5 rows x 149 columns])"
      ]
     },
     "execution_count": 9,
     "metadata": {},
     "output_type": "execute_result"
    }
   ],
   "source": [
    "import pandas as pd\n",
    "from IPython.display import display\n",
    "\n",
    "\n",
    "#1 Load the dataset to check its structure\n",
    "file_path = \"C:/Users/leo/Downloads/python-material-cut-as-of-lesson2/python-material/data/2-intermediate/df_out_dsif2.csv\"\n",
    "df = pd.read_csv(file_path)\n",
    "\n",
    "# Display basic information about the dataset\n",
    "df.info(), df.head()"
   ]
  },
  {
   "cell_type": "code",
   "execution_count": 11,
   "id": "25849da0-2e41-4d99-9f46-aa8fde77311b",
   "metadata": {},
   "outputs": [
    {
     "name": "stdout",
     "output_type": "stream",
     "text": [
      "<class 'pandas.core.frame.DataFrame'>\n",
      "RangeIndex: 100000 entries, 0 to 99999\n",
      "Columns: 112 entries, id to emp_title_manager\n",
      "dtypes: float64(84), int64(2), object(26)\n",
      "memory usage: 85.4+ MB\n"
     ]
    },
    {
     "data": {
      "text/plain": [
       "(None,\n",
       "           id  loan_amnt  funded_amnt  funded_amnt_inv        term  int_rate  \\\n",
       " 0  167338079     4000.0       4000.0           4000.0   36 months    0.1308   \n",
       " 1   71016917    24000.0      24000.0          24000.0   60 months    0.0916   \n",
       " 2   39589826     5000.0       5000.0           5000.0   36 months    0.1049   \n",
       " 3  134798709    24000.0      24000.0          24000.0   60 months    0.1105   \n",
       " 4  127097355    14000.0      14000.0          14000.0   60 months    0.1359   \n",
       " \n",
       "    installment grade sub_grade       emp_title  ... total_bc_limit  \\\n",
       " 0       134.93     B        B5         cashier  ...            0.0   \n",
       " 1       500.07     B        B2             ABM  ...        13000.0   \n",
       " 2       162.49     B        B3          driver  ...        10000.0   \n",
       " 3       522.42     B        B4             NaN  ...        49000.0   \n",
       " 4       322.79     C        C2  Shipping Clerk  ...        28800.0   \n",
       " \n",
       "   total_il_high_credit_limit  hardship_flag debt_settlement_flag  \\\n",
       " 0                    17928.0              N                    N   \n",
       " 1                    52954.0              N                    N   \n",
       " 2                     7526.0              N                    N   \n",
       " 3                    20000.0              N                    N   \n",
       " 4                    38181.0              N                    N   \n",
       " \n",
       "   hardship_status_filled last_pymnt_amnt_log last_pymnt_amnt_capped  \\\n",
       " 0            NO_HARDSHIP            4.912140                 134.93   \n",
       " 1            NO_HARDSHIP            6.216746                 500.07   \n",
       " 2            NO_HARDSHIP            5.096385                 162.43   \n",
       " 3            NO_HARDSHIP            6.260384                 522.42   \n",
       " 4            NO_HARDSHIP            9.317383               11128.82   \n",
       " \n",
       "   loan_id_extracted emp_title_clean emp_title_manager  \n",
       " 0         167338079         cashier             False  \n",
       " 1          71016917             abm             False  \n",
       " 2          39589826          driver             False  \n",
       " 3         134798709             NaN               NaN  \n",
       " 4         127097355  shipping clerk             False  \n",
       " \n",
       " [5 rows x 112 columns])"
      ]
     },
     "execution_count": 11,
     "metadata": {},
     "output_type": "execute_result"
    }
   ],
   "source": [
    "#2 Data Cleaning Step 1: Handle missing values and drop duplicates\n",
    "\n",
    "# Checking the percentage of missing values in each column\n",
    "missing_values = df.isnull().sum() / len(df) * 100\n",
    "\n",
    "# Dropping duplicate rows if any\n",
    "df_cleaned = df.drop_duplicates()\n",
    "\n",
    "# For simplicity, we can choose to drop columns with a high percentage of missing values\n",
    "threshold = 50  # Setting a threshold for missing data\n",
    "columns_to_drop = missing_values[missing_values > threshold].index\n",
    "df_cleaned = df_cleaned.drop(columns=columns_to_drop)\n",
    "\n",
    "# Converting the 'int_rate' column from string to a float\n",
    "df_cleaned['int_rate'] = df_cleaned['int_rate'].str.rstrip('%').astype('float') / 100\n",
    "\n",
    "# Display the cleaned data's new structure\n",
    "df_cleaned.info(), df_cleaned.head()\n"
   ]
  },
  {
   "cell_type": "code",
   "execution_count": 13,
   "id": "c446812b-9149-4ed7-8a06-42e7e34aa8b5",
   "metadata": {},
   "outputs": [
    {
     "name": "stdout",
     "output_type": "stream",
     "text": [
      "Numerical Summary Statistics:\n"
     ]
    },
    {
     "data": {
      "text/html": [
       "<div>\n",
       "<style scoped>\n",
       "    .dataframe tbody tr th:only-of-type {\n",
       "        vertical-align: middle;\n",
       "    }\n",
       "\n",
       "    .dataframe tbody tr th {\n",
       "        vertical-align: top;\n",
       "    }\n",
       "\n",
       "    .dataframe thead th {\n",
       "        text-align: right;\n",
       "    }\n",
       "</style>\n",
       "<table border=\"1\" class=\"dataframe\">\n",
       "  <thead>\n",
       "    <tr style=\"text-align: right;\">\n",
       "      <th></th>\n",
       "      <th>id</th>\n",
       "      <th>loan_amnt</th>\n",
       "      <th>funded_amnt</th>\n",
       "      <th>funded_amnt_inv</th>\n",
       "      <th>int_rate</th>\n",
       "      <th>installment</th>\n",
       "      <th>annual_inc</th>\n",
       "      <th>dti</th>\n",
       "      <th>delinq_2yrs</th>\n",
       "      <th>fico_range_low</th>\n",
       "      <th>...</th>\n",
       "      <th>percent_bc_gt_75</th>\n",
       "      <th>pub_rec_bankruptcies</th>\n",
       "      <th>tax_liens</th>\n",
       "      <th>tot_hi_cred_lim</th>\n",
       "      <th>total_bal_ex_mort</th>\n",
       "      <th>total_bc_limit</th>\n",
       "      <th>total_il_high_credit_limit</th>\n",
       "      <th>last_pymnt_amnt_log</th>\n",
       "      <th>last_pymnt_amnt_capped</th>\n",
       "      <th>loan_id_extracted</th>\n",
       "    </tr>\n",
       "  </thead>\n",
       "  <tbody>\n",
       "    <tr>\n",
       "      <th>count</th>\n",
       "      <td>1.000000e+05</td>\n",
       "      <td>100000.000000</td>\n",
       "      <td>100000.000000</td>\n",
       "      <td>100000.000000</td>\n",
       "      <td>100000.000000</td>\n",
       "      <td>100000.000000</td>\n",
       "      <td>1.000000e+05</td>\n",
       "      <td>99898.000000</td>\n",
       "      <td>100000.00000</td>\n",
       "      <td>100000.000000</td>\n",
       "      <td>...</td>\n",
       "      <td>97133.000000</td>\n",
       "      <td>99955.000000</td>\n",
       "      <td>99995.000000</td>\n",
       "      <td>9.756200e+04</td>\n",
       "      <td>9.822200e+04</td>\n",
       "      <td>98222.000000</td>\n",
       "      <td>9.756200e+04</td>\n",
       "      <td>99996.000000</td>\n",
       "      <td>100000.000000</td>\n",
       "      <td>1.000000e+05</td>\n",
       "    </tr>\n",
       "    <tr>\n",
       "      <th>mean</th>\n",
       "      <td>9.789485e+07</td>\n",
       "      <td>15332.373000</td>\n",
       "      <td>15328.216250</td>\n",
       "      <td>15313.244829</td>\n",
       "      <td>0.130567</td>\n",
       "      <td>451.708510</td>\n",
       "      <td>8.002918e+04</td>\n",
       "      <td>19.332252</td>\n",
       "      <td>0.28473</td>\n",
       "      <td>700.639200</td>\n",
       "      <td>...</td>\n",
       "      <td>40.051512</td>\n",
       "      <td>0.123315</td>\n",
       "      <td>0.036772</td>\n",
       "      <td>1.838475e+05</td>\n",
       "      <td>5.279150e+04</td>\n",
       "      <td>24834.481664</td>\n",
       "      <td>4.561308e+04</td>\n",
       "      <td>6.414045</td>\n",
       "      <td>3178.667936</td>\n",
       "      <td>9.789485e+07</td>\n",
       "    </tr>\n",
       "    <tr>\n",
       "      <th>std</th>\n",
       "      <td>5.114736e+07</td>\n",
       "      <td>9468.189883</td>\n",
       "      <td>9467.415275</td>\n",
       "      <td>9470.918891</td>\n",
       "      <td>0.048770</td>\n",
       "      <td>273.022605</td>\n",
       "      <td>8.722434e+04</td>\n",
       "      <td>17.278045</td>\n",
       "      <td>0.82352</td>\n",
       "      <td>33.800996</td>\n",
       "      <td>...</td>\n",
       "      <td>36.068887</td>\n",
       "      <td>0.354398</td>\n",
       "      <td>0.365740</td>\n",
       "      <td>1.840932e+05</td>\n",
       "      <td>5.172936e+04</td>\n",
       "      <td>24487.591805</td>\n",
       "      <td>4.693562e+04</td>\n",
       "      <td>2.450476</td>\n",
       "      <td>5018.300044</td>\n",
       "      <td>5.114736e+07</td>\n",
       "    </tr>\n",
       "    <tr>\n",
       "      <th>min</th>\n",
       "      <td>5.641300e+04</td>\n",
       "      <td>700.000000</td>\n",
       "      <td>700.000000</td>\n",
       "      <td>0.000000</td>\n",
       "      <td>0.053100</td>\n",
       "      <td>22.510000</td>\n",
       "      <td>0.000000e+00</td>\n",
       "      <td>-1.000000</td>\n",
       "      <td>0.00000</td>\n",
       "      <td>640.000000</td>\n",
       "      <td>...</td>\n",
       "      <td>0.000000</td>\n",
       "      <td>0.000000</td>\n",
       "      <td>0.000000</td>\n",
       "      <td>0.000000e+00</td>\n",
       "      <td>0.000000e+00</td>\n",
       "      <td>0.000000</td>\n",
       "      <td>0.000000e+00</td>\n",
       "      <td>0.000000</td>\n",
       "      <td>-753.180000</td>\n",
       "      <td>5.641300e+04</td>\n",
       "    </tr>\n",
       "    <tr>\n",
       "      <th>25%</th>\n",
       "      <td>5.907084e+07</td>\n",
       "      <td>8000.000000</td>\n",
       "      <td>8000.000000</td>\n",
       "      <td>8000.000000</td>\n",
       "      <td>0.091700</td>\n",
       "      <td>253.060000</td>\n",
       "      <td>4.716050e+04</td>\n",
       "      <td>12.060000</td>\n",
       "      <td>0.00000</td>\n",
       "      <td>675.000000</td>\n",
       "      <td>...</td>\n",
       "      <td>0.000000</td>\n",
       "      <td>0.000000</td>\n",
       "      <td>0.000000</td>\n",
       "      <td>5.291250e+04</td>\n",
       "      <td>2.136600e+04</td>\n",
       "      <td>8900.000000</td>\n",
       "      <td>1.555025e+04</td>\n",
       "      <td>5.582029</td>\n",
       "      <td>264.597500</td>\n",
       "      <td>5.907084e+07</td>\n",
       "    </tr>\n",
       "    <tr>\n",
       "      <th>50%</th>\n",
       "      <td>1.078083e+08</td>\n",
       "      <td>13000.000000</td>\n",
       "      <td>13000.000000</td>\n",
       "      <td>13000.000000</td>\n",
       "      <td>0.124900</td>\n",
       "      <td>380.810000</td>\n",
       "      <td>6.600000e+04</td>\n",
       "      <td>18.100000</td>\n",
       "      <td>0.00000</td>\n",
       "      <td>695.000000</td>\n",
       "      <td>...</td>\n",
       "      <td>33.300000</td>\n",
       "      <td>0.000000</td>\n",
       "      <td>0.000000</td>\n",
       "      <td>1.182735e+05</td>\n",
       "      <td>3.895200e+04</td>\n",
       "      <td>17500.000000</td>\n",
       "      <td>3.408300e+04</td>\n",
       "      <td>6.371902</td>\n",
       "      <td>584.085000</td>\n",
       "      <td>1.078083e+08</td>\n",
       "    </tr>\n",
       "    <tr>\n",
       "      <th>75%</th>\n",
       "      <td>1.433592e+08</td>\n",
       "      <td>20000.000000</td>\n",
       "      <td>20000.000000</td>\n",
       "      <td>20000.000000</td>\n",
       "      <td>0.160100</td>\n",
       "      <td>602.300000</td>\n",
       "      <td>9.500000e+04</td>\n",
       "      <td>24.870000</td>\n",
       "      <td>0.00000</td>\n",
       "      <td>720.000000</td>\n",
       "      <td>...</td>\n",
       "      <td>66.700000</td>\n",
       "      <td>0.000000</td>\n",
       "      <td>0.000000</td>\n",
       "      <td>2.659925e+05</td>\n",
       "      <td>6.651400e+04</td>\n",
       "      <td>32500.000000</td>\n",
       "      <td>6.122675e+04</td>\n",
       "      <td>8.289217</td>\n",
       "      <td>3979.382500</td>\n",
       "      <td>1.433592e+08</td>\n",
       "    </tr>\n",
       "    <tr>\n",
       "      <th>max</th>\n",
       "      <td>1.709956e+08</td>\n",
       "      <td>40000.000000</td>\n",
       "      <td>40000.000000</td>\n",
       "      <td>40000.000000</td>\n",
       "      <td>0.309900</td>\n",
       "      <td>1719.830000</td>\n",
       "      <td>1.099920e+07</td>\n",
       "      <td>999.000000</td>\n",
       "      <td>18.00000</td>\n",
       "      <td>845.000000</td>\n",
       "      <td>...</td>\n",
       "      <td>100.000000</td>\n",
       "      <td>7.000000</td>\n",
       "      <td>52.000000</td>\n",
       "      <td>4.265968e+06</td>\n",
       "      <td>1.162942e+06</td>\n",
       "      <td>425150.000000</td>\n",
       "      <td>1.029490e+06</td>\n",
       "      <td>10.634850</td>\n",
       "      <td>17440.046000</td>\n",
       "      <td>1.709956e+08</td>\n",
       "    </tr>\n",
       "  </tbody>\n",
       "</table>\n",
       "<p>8 rows × 86 columns</p>\n",
       "</div>"
      ],
      "text/plain": [
       "                 id      loan_amnt    funded_amnt  funded_amnt_inv  \\\n",
       "count  1.000000e+05  100000.000000  100000.000000    100000.000000   \n",
       "mean   9.789485e+07   15332.373000   15328.216250     15313.244829   \n",
       "std    5.114736e+07    9468.189883    9467.415275      9470.918891   \n",
       "min    5.641300e+04     700.000000     700.000000         0.000000   \n",
       "25%    5.907084e+07    8000.000000    8000.000000      8000.000000   \n",
       "50%    1.078083e+08   13000.000000   13000.000000     13000.000000   \n",
       "75%    1.433592e+08   20000.000000   20000.000000     20000.000000   \n",
       "max    1.709956e+08   40000.000000   40000.000000     40000.000000   \n",
       "\n",
       "            int_rate    installment    annual_inc           dti   delinq_2yrs  \\\n",
       "count  100000.000000  100000.000000  1.000000e+05  99898.000000  100000.00000   \n",
       "mean        0.130567     451.708510  8.002918e+04     19.332252       0.28473   \n",
       "std         0.048770     273.022605  8.722434e+04     17.278045       0.82352   \n",
       "min         0.053100      22.510000  0.000000e+00     -1.000000       0.00000   \n",
       "25%         0.091700     253.060000  4.716050e+04     12.060000       0.00000   \n",
       "50%         0.124900     380.810000  6.600000e+04     18.100000       0.00000   \n",
       "75%         0.160100     602.300000  9.500000e+04     24.870000       0.00000   \n",
       "max         0.309900    1719.830000  1.099920e+07    999.000000      18.00000   \n",
       "\n",
       "       fico_range_low  ...  percent_bc_gt_75  pub_rec_bankruptcies  \\\n",
       "count   100000.000000  ...      97133.000000          99955.000000   \n",
       "mean       700.639200  ...         40.051512              0.123315   \n",
       "std         33.800996  ...         36.068887              0.354398   \n",
       "min        640.000000  ...          0.000000              0.000000   \n",
       "25%        675.000000  ...          0.000000              0.000000   \n",
       "50%        695.000000  ...         33.300000              0.000000   \n",
       "75%        720.000000  ...         66.700000              0.000000   \n",
       "max        845.000000  ...        100.000000              7.000000   \n",
       "\n",
       "          tax_liens  tot_hi_cred_lim  total_bal_ex_mort  total_bc_limit  \\\n",
       "count  99995.000000     9.756200e+04       9.822200e+04    98222.000000   \n",
       "mean       0.036772     1.838475e+05       5.279150e+04    24834.481664   \n",
       "std        0.365740     1.840932e+05       5.172936e+04    24487.591805   \n",
       "min        0.000000     0.000000e+00       0.000000e+00        0.000000   \n",
       "25%        0.000000     5.291250e+04       2.136600e+04     8900.000000   \n",
       "50%        0.000000     1.182735e+05       3.895200e+04    17500.000000   \n",
       "75%        0.000000     2.659925e+05       6.651400e+04    32500.000000   \n",
       "max       52.000000     4.265968e+06       1.162942e+06   425150.000000   \n",
       "\n",
       "       total_il_high_credit_limit  last_pymnt_amnt_log  \\\n",
       "count                9.756200e+04         99996.000000   \n",
       "mean                 4.561308e+04             6.414045   \n",
       "std                  4.693562e+04             2.450476   \n",
       "min                  0.000000e+00             0.000000   \n",
       "25%                  1.555025e+04             5.582029   \n",
       "50%                  3.408300e+04             6.371902   \n",
       "75%                  6.122675e+04             8.289217   \n",
       "max                  1.029490e+06            10.634850   \n",
       "\n",
       "       last_pymnt_amnt_capped  loan_id_extracted  \n",
       "count           100000.000000       1.000000e+05  \n",
       "mean              3178.667936       9.789485e+07  \n",
       "std               5018.300044       5.114736e+07  \n",
       "min               -753.180000       5.641300e+04  \n",
       "25%                264.597500       5.907084e+07  \n",
       "50%                584.085000       1.078083e+08  \n",
       "75%               3979.382500       1.433592e+08  \n",
       "max              17440.046000       1.709956e+08  \n",
       "\n",
       "[8 rows x 86 columns]"
      ]
     },
     "metadata": {},
     "output_type": "display_data"
    },
    {
     "name": "stdout",
     "output_type": "stream",
     "text": [
      "Categorical Summary Statistics:\n"
     ]
    },
    {
     "data": {
      "text/html": [
       "<div>\n",
       "<style scoped>\n",
       "    .dataframe tbody tr th:only-of-type {\n",
       "        vertical-align: middle;\n",
       "    }\n",
       "\n",
       "    .dataframe tbody tr th {\n",
       "        vertical-align: top;\n",
       "    }\n",
       "\n",
       "    .dataframe thead th {\n",
       "        text-align: right;\n",
       "    }\n",
       "</style>\n",
       "<table border=\"1\" class=\"dataframe\">\n",
       "  <thead>\n",
       "    <tr style=\"text-align: right;\">\n",
       "      <th></th>\n",
       "      <th>term</th>\n",
       "      <th>grade</th>\n",
       "      <th>sub_grade</th>\n",
       "      <th>emp_title</th>\n",
       "      <th>emp_length</th>\n",
       "      <th>home_ownership</th>\n",
       "      <th>verification_status</th>\n",
       "      <th>issue_d</th>\n",
       "      <th>loan_status</th>\n",
       "      <th>pymnt_plan</th>\n",
       "      <th>...</th>\n",
       "      <th>revol_util</th>\n",
       "      <th>initial_list_status</th>\n",
       "      <th>last_pymnt_d</th>\n",
       "      <th>last_credit_pull_d</th>\n",
       "      <th>application_type</th>\n",
       "      <th>hardship_flag</th>\n",
       "      <th>debt_settlement_flag</th>\n",
       "      <th>hardship_status_filled</th>\n",
       "      <th>emp_title_clean</th>\n",
       "      <th>emp_title_manager</th>\n",
       "    </tr>\n",
       "  </thead>\n",
       "  <tbody>\n",
       "    <tr>\n",
       "      <th>count</th>\n",
       "      <td>100000</td>\n",
       "      <td>100000</td>\n",
       "      <td>100000</td>\n",
       "      <td>91046</td>\n",
       "      <td>93050</td>\n",
       "      <td>100000</td>\n",
       "      <td>100000</td>\n",
       "      <td>100000</td>\n",
       "      <td>100000</td>\n",
       "      <td>100000</td>\n",
       "      <td>...</td>\n",
       "      <td>99919</td>\n",
       "      <td>100000</td>\n",
       "      <td>99809</td>\n",
       "      <td>99998</td>\n",
       "      <td>100000</td>\n",
       "      <td>98673</td>\n",
       "      <td>100000</td>\n",
       "      <td>100000</td>\n",
       "      <td>91046</td>\n",
       "      <td>91046</td>\n",
       "    </tr>\n",
       "    <tr>\n",
       "      <th>unique</th>\n",
       "      <td>2</td>\n",
       "      <td>7</td>\n",
       "      <td>35</td>\n",
       "      <td>40094</td>\n",
       "      <td>11</td>\n",
       "      <td>6</td>\n",
       "      <td>3</td>\n",
       "      <td>159</td>\n",
       "      <td>10</td>\n",
       "      <td>1</td>\n",
       "      <td>...</td>\n",
       "      <td>1088</td>\n",
       "      <td>2</td>\n",
       "      <td>147</td>\n",
       "      <td>137</td>\n",
       "      <td>2</td>\n",
       "      <td>2</td>\n",
       "      <td>2</td>\n",
       "      <td>5</td>\n",
       "      <td>33073</td>\n",
       "      <td>2</td>\n",
       "    </tr>\n",
       "    <tr>\n",
       "      <th>top</th>\n",
       "      <td>36 months</td>\n",
       "      <td>B</td>\n",
       "      <td>B5</td>\n",
       "      <td>Teacher</td>\n",
       "      <td>10+ years</td>\n",
       "      <td>MORTGAGE</td>\n",
       "      <td>Source Verified</td>\n",
       "      <td>Mar-2016</td>\n",
       "      <td>Fully Paid</td>\n",
       "      <td>n</td>\n",
       "      <td>...</td>\n",
       "      <td>0%</td>\n",
       "      <td>w</td>\n",
       "      <td>May-2020</td>\n",
       "      <td>May-2020</td>\n",
       "      <td>Individual</td>\n",
       "      <td>N</td>\n",
       "      <td>N</td>\n",
       "      <td>NO_HARDSHIP</td>\n",
       "      <td>teacher</td>\n",
       "      <td>False</td>\n",
       "    </tr>\n",
       "    <tr>\n",
       "      <th>freq</th>\n",
       "      <td>70384</td>\n",
       "      <td>29216</td>\n",
       "      <td>6225</td>\n",
       "      <td>1709</td>\n",
       "      <td>32207</td>\n",
       "      <td>49149</td>\n",
       "      <td>38932</td>\n",
       "      <td>2165</td>\n",
       "      <td>51189</td>\n",
       "      <td>100000</td>\n",
       "      <td>...</td>\n",
       "      <td>638</td>\n",
       "      <td>73302</td>\n",
       "      <td>33520</td>\n",
       "      <td>53406</td>\n",
       "      <td>92834</td>\n",
       "      <td>94507</td>\n",
       "      <td>98244</td>\n",
       "      <td>95105</td>\n",
       "      <td>2121</td>\n",
       "      <td>77148</td>\n",
       "    </tr>\n",
       "  </tbody>\n",
       "</table>\n",
       "<p>4 rows × 26 columns</p>\n",
       "</div>"
      ],
      "text/plain": [
       "              term   grade sub_grade emp_title emp_length home_ownership  \\\n",
       "count       100000  100000    100000     91046      93050         100000   \n",
       "unique           2       7        35     40094         11              6   \n",
       "top      36 months       B        B5   Teacher  10+ years       MORTGAGE   \n",
       "freq         70384   29216      6225      1709      32207          49149   \n",
       "\n",
       "       verification_status   issue_d loan_status pymnt_plan  ... revol_util  \\\n",
       "count               100000    100000      100000     100000  ...      99919   \n",
       "unique                   3       159          10          1  ...       1088   \n",
       "top        Source Verified  Mar-2016  Fully Paid          n  ...         0%   \n",
       "freq                 38932      2165       51189     100000  ...        638   \n",
       "\n",
       "       initial_list_status last_pymnt_d last_credit_pull_d application_type  \\\n",
       "count               100000        99809              99998           100000   \n",
       "unique                   2          147                137                2   \n",
       "top                      w     May-2020           May-2020       Individual   \n",
       "freq                 73302        33520              53406            92834   \n",
       "\n",
       "       hardship_flag debt_settlement_flag hardship_status_filled  \\\n",
       "count          98673               100000                 100000   \n",
       "unique             2                    2                      5   \n",
       "top                N                    N            NO_HARDSHIP   \n",
       "freq           94507                98244                  95105   \n",
       "\n",
       "       emp_title_clean emp_title_manager  \n",
       "count            91046             91046  \n",
       "unique           33073                 2  \n",
       "top            teacher             False  \n",
       "freq              2121             77148  \n",
       "\n",
       "[4 rows x 26 columns]"
      ]
     },
     "metadata": {},
     "output_type": "display_data"
    }
   ],
   "source": [
    "#3 Summary statistics for numerical columns\n",
    "numerical_summary = df_cleaned.describe()\n",
    "\n",
    "# Summary for categorical columns\n",
    "categorical_columns = df_cleaned.select_dtypes(include=['object']).columns\n",
    "categorical_summary = df_cleaned[categorical_columns].describe()\n",
    "\n",
    "# Display summary statistics using the display() function \n",
    "from IPython.display import display\n",
    "\n",
    "# Display numerical summary statistics\n",
    "print(\"Numerical Summary Statistics:\")\n",
    "display(numerical_summary)\n",
    "\n",
    "# Display categorical summary statistics\n",
    "print(\"Categorical Summary Statistics:\")\n",
    "display(categorical_summary)\n"
   ]
  },
  {
   "cell_type": "code",
   "execution_count": 15,
   "id": "a2b121df-e59b-43f5-aae8-668c9be53476",
   "metadata": {},
   "outputs": [
    {
     "data": {
      "text/html": [
       "<div>\n",
       "<style scoped>\n",
       "    .dataframe tbody tr th:only-of-type {\n",
       "        vertical-align: middle;\n",
       "    }\n",
       "\n",
       "    .dataframe tbody tr th {\n",
       "        vertical-align: top;\n",
       "    }\n",
       "\n",
       "    .dataframe thead th {\n",
       "        text-align: right;\n",
       "    }\n",
       "</style>\n",
       "<table border=\"1\" class=\"dataframe\">\n",
       "  <thead>\n",
       "    <tr style=\"text-align: right;\">\n",
       "      <th></th>\n",
       "      <th>loan_income_ratio</th>\n",
       "      <th>int_rate_bin</th>\n",
       "      <th>debt_income_ratio</th>\n",
       "    </tr>\n",
       "  </thead>\n",
       "  <tbody>\n",
       "    <tr>\n",
       "      <th>0</th>\n",
       "      <td>0.083333</td>\n",
       "      <td>High</td>\n",
       "      <td>0.2025</td>\n",
       "    </tr>\n",
       "    <tr>\n",
       "      <th>1</th>\n",
       "      <td>0.421053</td>\n",
       "      <td>Low</td>\n",
       "      <td>0.2533</td>\n",
       "    </tr>\n",
       "    <tr>\n",
       "      <th>2</th>\n",
       "      <td>0.090909</td>\n",
       "      <td>Medium</td>\n",
       "      <td>0.0722</td>\n",
       "    </tr>\n",
       "    <tr>\n",
       "      <th>3</th>\n",
       "      <td>0.551724</td>\n",
       "      <td>Medium</td>\n",
       "      <td>0.2455</td>\n",
       "    </tr>\n",
       "    <tr>\n",
       "      <th>4</th>\n",
       "      <td>0.291667</td>\n",
       "      <td>High</td>\n",
       "      <td>0.2430</td>\n",
       "    </tr>\n",
       "  </tbody>\n",
       "</table>\n",
       "</div>"
      ],
      "text/plain": [
       "   loan_income_ratio int_rate_bin  debt_income_ratio\n",
       "0           0.083333         High             0.2025\n",
       "1           0.421053          Low             0.2533\n",
       "2           0.090909       Medium             0.0722\n",
       "3           0.551724       Medium             0.2455\n",
       "4           0.291667         High             0.2430"
      ]
     },
     "execution_count": 15,
     "metadata": {},
     "output_type": "execute_result"
    }
   ],
   "source": [
    "#4 Feature Engineering\n",
    "\n",
    "# Assuming there is a 'annual_inc' column for income\n",
    "if 'annual_inc' in df_cleaned.columns:\n",
    "    # Creating a Loan-to-Income ratio\n",
    "    df_cleaned['loan_income_ratio'] = df_cleaned['loan_amnt'] / df_cleaned['annual_inc']\n",
    "\n",
    "# Binning 'int_rate' into categories for better analysis\n",
    "df_cleaned['int_rate_bin'] = pd.cut(df_cleaned['int_rate'], \n",
    "                                    bins=[0, 0.07, 0.10, 0.13, 0.16, 0.20, 1], \n",
    "                                    labels=['Very Low', 'Low', 'Medium', 'High', 'Very High', 'Extreme'])\n",
    "\n",
    "# Creating Debt-to-Income ratio if relevant columns exist\n",
    "if 'dti' in df_cleaned.columns:\n",
    "    df_cleaned['debt_income_ratio'] = df_cleaned['dti'] / 100  # assuming dti is percentage\n",
    "\n",
    "# Display the new features\n",
    "df_cleaned[['loan_income_ratio', 'int_rate_bin', 'debt_income_ratio']].head()\n"
   ]
  },
  {
   "cell_type": "code",
   "execution_count": 19,
   "id": "b5697b9c-c833-4091-81ef-c3fae02c5682",
   "metadata": {},
   "outputs": [
    {
     "data": {
      "image/png": "[encoded data removed]",
      "text/plain": [
       "<Figure size 1200x800 with 2 Axes>"
      ]
     },
     "metadata": {},
     "output_type": "display_data"
    },
    {
     "data": {
      "image/png": "[encoded data removed]",
      "text/plain": [
       "<Figure size 800x600 with 1 Axes>"
      ]
     },
     "metadata": {},
     "output_type": "display_data"
    },
    {
     "data": {
      "image/png": "[encoded data removed]",
      "text/plain": [
       "<Figure size 1000x600 with 1 Axes>"
      ]
     },
     "metadata": {},
     "output_type": "display_data"
    }
   ],
   "source": [
    "#5 visualisations\n",
    "import matplotlib.pyplot as plt\n",
    "import seaborn as sns\n",
    "\n",
    "# Ensure that only numeric columns are included for the correlation matrix\n",
    "numeric_columns = df_cleaned.select_dtypes(include=['float64', 'int64']).columns\n",
    "correlation_matrix = df_cleaned[numeric_columns].corr()\n",
    "\n",
    "# Plot 1: Correlation heatmap for numerical variables\n",
    "plt.figure(figsize=(12, 8))\n",
    "sns.heatmap(correlation_matrix, cmap=\"coolwarm\", annot=False)\n",
    "plt.title('Correlation Heatmap for Numerical Features')\n",
    "plt.show()\n",
    "\n",
    "# Plot 2: Distribution of Interest Rate Bins\n",
    "plt.figure(figsize=(8, 6))\n",
    "sns.countplot(x='int_rate_bin', data=df_cleaned, order=['Very Low', 'Low', 'Medium', 'High', 'Very High', 'Extreme'])\n",
    "plt.title('Distribution of Loans by Interest Rate Bins')\n",
    "plt.xlabel('Interest Rate Categories')\n",
    "plt.ylabel('Loan Count')\n",
    "plt.show()\n",
    "\n",
    "# Plot 3: Scatter plot of Loan Amount vs Loan-to-Income Ratio\n",
    "plt.figure(figsize=(10, 6))\n",
    "sns.scatterplot(x='loan_amnt', y='loan_income_ratio', data=df_cleaned)\n",
    "plt.title('Loan Amount vs Loan-to-Income Ratio')\n",
    "plt.xlabel('Loan Amount')\n",
    "plt.ylabel('Loan-to-Income Ratio')\n",
    "plt.show()"
   ]
  },
  {
   "cell_type": "code",
   "execution_count": null,
   "id": "33599457-b21a-4008-8a17-7ecad40e45b4",
   "metadata": {},
   "outputs": [],
   "source": [
    "#6. Insights and Conclusions\n",
    "#Actionable Insights:\n",
    "\n",
    "#Target High-Risk Borrowers:\n",
    "#Loans in the \"High\" and \"Very High\" interest rate bins are more frequent, which could imply higher risk profiles. The business can focus on providing additional support or alternative loan products for these borrowers, potentially offering lower interest rates or longer terms for improved repayment options.\n",
    "#Manage Loan Affordability:\n",
    "# Borrowers with a high loan-to-income ratio could be at a higher risk of default. Implementing stricter checks or offering customised repayment plans for borrowers whose loan-to-income ratio exceeds a certain threshold could reduce default rates and improve customer satisfaction.\n",
    "# Measuring the Impact:\n",
    "\n",
    "# For High-Risk Loans: Track default rates and repayment behaviour for loans in different interest rate categories. The business could experiment with targeted interventions for high-risk categories and measure changes in repayment rates over time.\n",
    "\n",
    "# For Loan Affordability: Monitor borrowers with high loan-to-income ratios. By analysing default rates and late payments, the business can adjust their credit risk models to better assess and offer loans to borrowers with manageable loan-to-income ratios."
   ]
  }
 ],
 "metadata": {
  "colab": {
   "provenance": []
  },
  "kernelspec": {
   "display_name": "Python 3 (ipykernel)",
   "language": "python",
   "name": "python3"
  },
  "language_info": {
   "codemirror_mode": {
    "name": "ipython",
    "version": 3
   },
   "file_extension": ".py",
   "mimetype": "text/x-python",
   "name": "python",
   "nbconvert_exporter": "python",
   "pygments_lexer": "ipython3",
   "version": "3.12.4"
  }
 },
 "nbformat": 4,
 "nbformat_minor": 5
}
